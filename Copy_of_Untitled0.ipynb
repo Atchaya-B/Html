{
  "nbformat": 4,
  "nbformat_minor": 0,
  "metadata": {
    "colab": {
      "provenance": [],
      "authorship_tag": "ABX9TyNtdL/HOFCvUjdiooGiLX81",
      "include_colab_link": true
    },
    "kernelspec": {
      "name": "python3",
      "display_name": "Python 3"
    },
    "language_info": {
      "name": "python"
    }
  },
  "cells": [
    {
      "cell_type": "markdown",
      "metadata": {
        "id": "view-in-github",
        "colab_type": "text"
      },
      "source": [
        "<a href=\"https://colab.research.google.com/github/Atchaya-B/Html/blob/main/Copy_of_Untitled0.ipynb\" target=\"_parent\"><img src=\"https://colab.research.google.com/assets/colab-badge.svg\" alt=\"Open In Colab\"/></a>"
      ]
    },
    {
      "cell_type": "code",
      "execution_count": null,
      "metadata": {
        "colab": {
          "base_uri": "https://localhost:8080/"
        },
        "id": "QaWP8-3V3Goq",
        "outputId": "e069dacf-bbd9-4a3e-d5f5-f7e80ffd6633"
      },
      "outputs": [
        {
          "output_type": "stream",
          "name": "stdout",
          "text": [
            "Enter your password:hello\n",
            "login successfull\n"
          ]
        }
      ],
      "source": [
        "attempts=3\n",
        "passcode=\"hello\"\n",
        "while attempts>0:\n",
        "  passwrd=input(\"Enter your password:\")\n",
        "  if passcode==passwrd:\n",
        "    print(\"login successfull\")\n",
        "    break\n",
        "  else:\n",
        "    attempts-=1\n",
        "    print(\"try again\")\n",
        "  if attempts ==0:\n",
        "    print(\"you have no attempts\")\n",
        "\n",
        "\n"
      ]
    }
  ]
}